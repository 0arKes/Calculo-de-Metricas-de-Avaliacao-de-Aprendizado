{
  "nbformat": 4,
  "nbformat_minor": 0,
  "metadata": {
    "colab": {
      "provenance": []
    },
    "kernelspec": {
      "name": "python3",
      "display_name": "Python 3"
    },
    "language_info": {
      "name": "python"
    }
  },
  "cells": [
    {
      "cell_type": "code",
      "execution_count": 2,
      "metadata": {
        "id": "F8KncNtFSkCK"
      },
      "outputs": [],
      "source": [
        "VP = 70\n",
        "VN = 50\n",
        "FP = 10\n",
        "FN = 20\n"
      ]
    },
    {
      "cell_type": "code",
      "source": [
        "def calcular_metricas(VP, VN, FP, FN):\n",
        "    total = VP + VN + FP + FN\n",
        "\n",
        "    # Acurácia\n",
        "    acuracia = (VP + VN) / total\n",
        "\n",
        "    # Precisão\n",
        "    if (VP + FP) > 0:\n",
        "        precisao = VP / (VP + FP)\n",
        "    else:\n",
        "        precisao = 0\n",
        "\n",
        "    # Recall (Sensibilidade)\n",
        "    if (VP + FN) > 0:\n",
        "        recall = VP / (VP + FN)\n",
        "    else:\n",
        "        recall = 0\n",
        "\n",
        "    # Especificidade\n",
        "    if (VN + FP) > 0:\n",
        "        especificidade = VN / (VN + FP)\n",
        "    else:\n",
        "        especificidade = 0\n",
        "\n",
        "    # F1-Score\n",
        "    if (precisao + recall) > 0:\n",
        "        f1_score = 2 * (precisao * recall) / (precisao + recall)\n",
        "    else:\n",
        "        f1_score = 0\n",
        "\n",
        "    return {\n",
        "        \"Acurácia\": acuracia,\n",
        "        \"Precisão\": precisao,\n",
        "        \"Recall (Sensibilidade)\": recall,\n",
        "        \"Especificidade\": especificidade,\n",
        "        \"F1-Score\": f1_score\n",
        "    }\n",
        "\n",
        "# Exemplo com valores arbitrários\n",
        "VP = 70\n",
        "VN = 50\n",
        "FP = 10\n",
        "FN = 20\n",
        "\n",
        "resultados = calcular_metricas(VP, VN, FP, FN)\n",
        "\n",
        "# Exibir os resultados formatados\n",
        "for metrica, valor in resultados.items():\n",
        "    print(f\"{metrica}: {valor:.2f}\")\n"
      ],
      "metadata": {
        "colab": {
          "base_uri": "https://localhost:8080/"
        },
        "id": "6v1i8-JuTyrJ",
        "outputId": "be15b4d0-d83d-42d6-e30a-340e6e17548b"
      },
      "execution_count": 3,
      "outputs": [
        {
          "output_type": "stream",
          "name": "stdout",
          "text": [
            "Acurácia: 0.80\n",
            "Precisão: 0.88\n",
            "Recall (Sensibilidade): 0.78\n",
            "Especificidade: 0.83\n",
            "F1-Score: 0.82\n"
          ]
        }
      ]
    }
  ]
}